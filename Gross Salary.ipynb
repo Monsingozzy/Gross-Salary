{
 "cells": [
  {
   "cell_type": "markdown",
   "metadata": {},
   "source": [
    "# Gross Salary"
   ]
  },
  {
   "cell_type": "code",
   "execution_count": null,
   "metadata": {},
   "outputs": [],
   "source": [
    "t = int(input()) #steps \n",
    "for i in range(t):\n",
    "    sal = int(input()) #input salary\n",
    "    if sal<1500: #check if salary less 15k\n",
    "        hra = 0.1*sal #perform 0.1 mul to sal har giv \n",
    "        da = 0.9*sal # and 0.9 mul into sal \n",
    "        print(sal+hra+da) \n",
    "    else:\n",
    "        hra = 500  #else hr 500\n",
    "        da = 0.98 * sal \n",
    "        print(sal+hra+da) #print value total"
   ]
  },
  {
   "cell_type": "markdown",
   "metadata": {},
   "source": [
    "## step1 :take steps in T take salary in sal \n",
    "\n",
    "## step2 : check if salary is less 15k\n",
    "\n",
    "## step3 : add increment hra to 0.1 mul sal and 0.9 mul sal then print\n",
    "\n",
    "## step4 :else hra is 500 and da increment by 0.98 print total value "
   ]
  }
 ],
 "metadata": {
  "kernelspec": {
   "display_name": "Python 3",
   "language": "python",
   "name": "python3"
  },
  "language_info": {
   "codemirror_mode": {
    "name": "ipython",
    "version": 3
   },
   "file_extension": ".py",
   "mimetype": "text/x-python",
   "name": "python",
   "nbconvert_exporter": "python",
   "pygments_lexer": "ipython3",
   "version": "3.7.9"
  }
 },
 "nbformat": 4,
 "nbformat_minor": 4
}
